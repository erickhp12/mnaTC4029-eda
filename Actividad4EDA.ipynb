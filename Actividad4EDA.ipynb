{
  "cells": [
    {
      "cell_type": "markdown",
      "metadata": {
        "id": "d-KgdgaNrtF6"
      },
      "source": [
        "**MAESTRÍA EN INTELIGENCIA ARTIFICIAL APLICADA**\n",
        "\n",
        "**Curso: TC4029 - Ciencia y analítica de datos**\n",
        "\n",
        "Tecnológico de Monterrey\n",
        "\n",
        "Prof Grettel Barceló Alonso\n",
        "\n",
        "**Semana 4**\n",
        "Exploración de datos\n",
        "\n",
        "---"
      ]
    },
    {
      "cell_type": "markdown",
      "metadata": {
        "id": "ri1bEjiZr5xo"
      },
      "source": [
        "*   NOMBRE: Erick Fernando Holguin Pardavell\n",
        "*   MATRÍCULA: A01797412"
      ]
    },
    {
      "cell_type": "code",
      "execution_count": 2,
      "metadata": {
        "colab": {
          "base_uri": "https://localhost:8080/"
        },
        "id": "TcdR-TK0QMY1",
        "outputId": "f57f7403-b5db-4cd0-e1c7-8991813ef6dd"
      },
      "outputs": [
        {
          "ename": "ModuleNotFoundError",
          "evalue": "No module named 'google'",
          "output_type": "error",
          "traceback": [
            "\u001b[0;31m---------------------------------------------------------------------------\u001b[0m",
            "\u001b[0;31mModuleNotFoundError\u001b[0m                       Traceback (most recent call last)",
            "Cell \u001b[0;32mIn[2], line 1\u001b[0m\n\u001b[0;32m----> 1\u001b[0m \u001b[38;5;28;01mfrom\u001b[39;00m\u001b[38;5;250m \u001b[39m\u001b[38;5;21;01mgoogle\u001b[39;00m\u001b[38;5;21;01m.\u001b[39;00m\u001b[38;5;21;01mcolab\u001b[39;00m\u001b[38;5;250m \u001b[39m\u001b[38;5;28;01mimport\u001b[39;00m drive\n\u001b[1;32m      2\u001b[0m drive\u001b[38;5;241m.\u001b[39mmount(\u001b[38;5;124m'\u001b[39m\u001b[38;5;124m/content/drive\u001b[39m\u001b[38;5;124m'\u001b[39m)\n",
            "\u001b[0;31mModuleNotFoundError\u001b[0m: No module named 'google'"
          ]
        }
      ],
      "source": [
        "from google.colab import drive\n",
        "drive.mount('/content/drive')"
      ]
    },
    {
      "cell_type": "code",
      "execution_count": null,
      "metadata": {
        "id": "zW0TskfKQOin"
      },
      "outputs": [],
      "source": [
        "import os\n",
        "DIR = \"/content/drive/MyDrive/Colab Notebooks/MNA/TC4029 - Ciencia y analítica de datos/Semana 4/Actividad4_EDA\"\n",
        "os.chdir(DIR)"
      ]
    },
    {
      "cell_type": "code",
      "execution_count": null,
      "metadata": {
        "execution": {
          "iopub.execute_input": "2022-06-19T15:21:55.733067Z",
          "iopub.status.busy": "2022-06-19T15:21:55.732322Z",
          "iopub.status.idle": "2022-06-19T15:21:59.957026Z",
          "shell.execute_reply": "2022-06-19T15:21:59.955946Z",
          "shell.execute_reply.started": "2022-06-19T15:21:55.732954Z"
        },
        "id": "xDh93eMJPtkK",
        "trusted": true
      },
      "outputs": [],
      "source": [
        "import pandas as pd\n",
        "import numpy as np\n",
        "import matplotlib.pyplot as plt\n",
        "import seaborn as sns"
      ]
    },
    {
      "cell_type": "code",
      "execution_count": null,
      "metadata": {
        "colab": {
          "base_uri": "https://localhost:8080/",
          "height": 488
        },
        "execution": {
          "iopub.execute_input": "2022-06-19T15:22:02.00629Z",
          "iopub.status.busy": "2022-06-19T15:22:02.005801Z",
          "iopub.status.idle": "2022-06-19T15:22:02.152264Z",
          "shell.execute_reply": "2022-06-19T15:22:02.151081Z",
          "shell.execute_reply.started": "2022-06-19T15:22:02.006254Z"
        },
        "id": "WqK8jBGIPtkM",
        "outputId": "98e37277-520f-42f6-ab32-88a261435580",
        "trusted": true
      },
      "outputs": [],
      "source": [
        "df = pd.read_csv(\"credit_risk_dataset.csv\")\n",
        "df"
      ]
    },
    {
      "cell_type": "markdown",
      "metadata": {
        "id": "4Pb958dzsJX7"
      },
      "source": [
        "# **Parte 1**. Análisis descriptivo (univariante)"
      ]
    },
    {
      "cell_type": "markdown",
      "metadata": {
        "id": "gJOy6E-fsjJ2"
      },
      "source": [
        "1. Utiliza el método `info()` del dataframe, para obtener el resumen de los tipos de datos. ¿Cuántas columnas son numéricas y cuántas cualitativas?"
      ]
    },
    {
      "cell_type": "code",
      "execution_count": null,
      "metadata": {
        "id": "xNJdWRXoTjEq"
      },
      "outputs": [],
      "source": []
    },
    {
      "cell_type": "markdown",
      "metadata": {
        "id": "5E5dc4kEsySz"
      },
      "source": [
        " 2. Determina el porcentaje de valores faltantes por columna."
      ]
    },
    {
      "cell_type": "code",
      "execution_count": null,
      "metadata": {
        "id": "P2yQ1Q1GTkDR"
      },
      "outputs": [],
      "source": []
    },
    {
      "cell_type": "markdown",
      "metadata": {
        "id": "WTpT5cHas1qr"
      },
      "source": [
        "# Análisis de variables numéricas"
      ]
    },
    {
      "cell_type": "markdown",
      "metadata": {
        "id": "vlyZuZS4tAQn"
      },
      "source": [
        "3. Obtén las siguientes estadísticas descriptivas para todas las variables numéricas:\n",
        "*   Tendencia central (media, mediana)\n",
        "*   Dispersión o variabilidad (min, max, desviación estándar, cuartiles)\n",
        "*   Forma (asimetría y curtosis)\n",
        "*   Clasifica las variables `person_age` y `loan_int_rate` según los valores observados de asimetría y curtosis\n",
        "\n",
        "**NOTA**. Recuerda que muchas de estas estadísticas, puedes obtenerlas utilizando la función `describe()` y que la mediana está representada en el 2do cuartil (50%)"
      ]
    },
    {
      "cell_type": "code",
      "execution_count": null,
      "metadata": {
        "id": "sq1cYqFpTng1"
      },
      "outputs": [],
      "source": []
    },
    {
      "cell_type": "markdown",
      "metadata": {
        "id": "S8-KT97Rtbfe"
      },
      "source": [
        "4. Utiliza histogramas para determinar la distribución de los valores representados en cada variable.\n",
        "*   ¿Se corresponde con lo obtenido en el cálculo de asimetría? Como verás, los datos reales son más complejos que la teoría. Por esta razón, recuerda siempre acompañar el análisis de la asimetría con algún gráfico como un histograma.\n",
        "\n",
        "**NOTA**. Para esto también puedes ocupar los gráficos `kde` ([kernel density estimation](https://www.cienciadedatos.net/documentos/pystats02-kernel-density-estimation-kde-python.html)) que crean una curva continua y suave expandiendo la idea del histograma."
      ]
    },
    {
      "cell_type": "code",
      "execution_count": null,
      "metadata": {
        "id": "s2p_NMxoTzu7"
      },
      "outputs": [],
      "source": []
    },
    {
      "cell_type": "markdown",
      "metadata": {
        "id": "IOs8B6xv7E27"
      },
      "source": [
        "5. Emplea boxplots para mostrar la distribución de los datos a través de sus cuartiles."
      ]
    },
    {
      "cell_type": "code",
      "execution_count": null,
      "metadata": {
        "id": "q3q7Zwr5T04j"
      },
      "outputs": [],
      "source": []
    },
    {
      "cell_type": "markdown",
      "metadata": {
        "id": "oLhS0w1y7LKA"
      },
      "source": [
        "*   Como podrás observar hay valores atípicos en todas las variables. Ejecuta el siguiente código para identificar los valores atípicos en la variable `person_age`"
      ]
    },
    {
      "cell_type": "code",
      "execution_count": null,
      "metadata": {
        "id": "N-TXJcDvQFc2"
      },
      "outputs": [],
      "source": [
        "percentile_25 = df[\"person_age\"].quantile(0.25)\n",
        "percentile_75 = df[\"person_age\"].quantile(0.75)\n",
        "iqr = percentile_75 - percentile_25\n",
        "upper_limit = percentile_75 + 1.5 * iqr\n",
        "lower_limit = percentile_25 - 1.5 * iqr\n",
        "IQR_outliers = df[(df[\"person_age\"] < lower_limit) | (df[\"person_age\"] > upper_limit)]\n",
        "IQR_outliers"
      ]
    },
    {
      "cell_type": "markdown",
      "metadata": {
        "id": "-NdS0_U67kU4"
      },
      "source": [
        "# Análisis de variables de texto"
      ]
    },
    {
      "cell_type": "markdown",
      "metadata": {
        "id": "jIOEB8QL8RDY"
      },
      "source": [
        " 6. Obtén las siguientes estadísticas descriptivas para todas las variables de texto:\n",
        "*   Tendencia central (moda)\n",
        "*   Cardinalidad (cantidad de valores únicos)\n",
        "*   Recuentos únicos (número de ocurrencias para cada valor único)\n",
        "\n",
        "**NOTA**. Un resumen de estas estadísticas, puedes obtenerlas indicando en la función `describe()` que se incluirán sólo las variables de tipo object: `describe(include = 'object')`. Para los recuentos utiliza la función `df['columna'].value_counts()`"
      ]
    },
    {
      "cell_type": "code",
      "execution_count": null,
      "metadata": {
        "id": "2B_fTyVHT5_Q"
      },
      "outputs": [],
      "source": []
    },
    {
      "cell_type": "markdown",
      "metadata": {
        "id": "xowqjxyp_-0n"
      },
      "source": [
        "7. Utiliza gráficos de barras por variable para representar la frecuencia de cada categoría.\n",
        "\n",
        "**NOTA**. seaborn posee un gráfico de recuento, para variables de tipo object, que calcula la frecuencia de cada categoría sin necesidad de utilizar la función `value_counts()`. Para generarlo debes indicar la columna: `sns.countplot(x='columna', data=df) `"
      ]
    },
    {
      "cell_type": "code",
      "execution_count": null,
      "metadata": {
        "id": "Uaf9oZZFT7Di"
      },
      "outputs": [],
      "source": []
    },
    {
      "cell_type": "markdown",
      "metadata": {
        "id": "p_KV6jjEAO2r"
      },
      "source": [
        "# **Parte 2**. Análisis de correlación (bivariante y multivariante)"
      ]
    },
    {
      "cell_type": "markdown",
      "metadata": {
        "id": "ff-y1jpREnkt"
      },
      "source": [
        "La variable `loan_status` será la variable de salida (o a predecir en un modelo de ML). Analiza su relación con el resto de las variables a través de los siguientes gráficos:\n",
        "\n",
        "8. Un box plot para visualizar la distribución de `loan_percent_income` según el `loan_status`. Interpreta el resultado."
      ]
    },
    {
      "cell_type": "code",
      "execution_count": null,
      "metadata": {
        "id": "1VPAd39ET8R3"
      },
      "outputs": [],
      "source": []
    },
    {
      "cell_type": "markdown",
      "metadata": {
        "id": "rdm3pENVHSSp"
      },
      "source": [
        " 9. En los gráficos de barras que obtuviste en el ejercicio 7, separa el conteo según el `loan_status`, utilizando el parámetro `hue`."
      ]
    },
    {
      "cell_type": "code",
      "execution_count": null,
      "metadata": {
        "id": "rJTgZkB8T9JN"
      },
      "outputs": [],
      "source": []
    },
    {
      "cell_type": "markdown",
      "metadata": {
        "id": "KAehbbQnIyjn"
      },
      "source": [
        "10. Un mapa de calor con los valores de correlación de todas las variables del dataframe.\n",
        "*   ¿Qué variable tiene mayor correlación con `loan_status`?"
      ]
    },
    {
      "cell_type": "code",
      "execution_count": null,
      "metadata": {
        "id": "glO0U50bT-Rn"
      },
      "outputs": [],
      "source": []
    }
  ],
  "metadata": {
    "colab": {
      "provenance": []
    },
    "kernelspec": {
      "display_name": "Python 3",
      "language": "python",
      "name": "python3"
    },
    "language_info": {
      "codemirror_mode": {
        "name": "ipython",
        "version": 3
      },
      "file_extension": ".py",
      "mimetype": "text/x-python",
      "name": "python",
      "nbconvert_exporter": "python",
      "pygments_lexer": "ipython3",
      "version": "3.9.6"
    }
  },
  "nbformat": 4,
  "nbformat_minor": 0
}
